{
 "cells": [
  {
   "cell_type": "markdown",
   "metadata": {},
   "source": [
    "## Incorporación de KPIs ##"
   ]
  },
  {
   "cell_type": "markdown",
   "metadata": {},
   "source": [
    "En este notebook se calcularán y agregarán los 3 KPIs sugeridos para este análisis. Estos son:\n",
    "\n",
    "- KPI Acceso: Aumento del 2% en la cantidad de accesos respecto del trimestre anterior,por cada 100 habitantes, por provincia.\n",
    "\n",
    "- KPI Velocidad: Aumento del 5% en la velocidad (MBps) promedio respecto del trimestre anterior, por provincia\n",
    "\n",
    "- KPI Tecnologías: Aumentar un 8% las conexiones a través de fibra óptica respecto del trimestre anterior, por provincia\n"
   ]
  },
  {
   "cell_type": "code",
   "execution_count": 75,
   "metadata": {},
   "outputs": [],
   "source": [
    "# importamos las Librerias regalonas\n",
    "import numpy as np\n",
    "import pandas as pd"
   ]
  },
  {
   "cell_type": "code",
   "execution_count": 76,
   "metadata": {},
   "outputs": [],
   "source": [
    "# Se lee el archivo del dataset procesado\n",
    "df = pd.read_excel('../data/Datos_provinciales.xlsx')"
   ]
  },
  {
   "cell_type": "code",
   "execution_count": 77,
   "metadata": {},
   "outputs": [
    {
     "data": {
      "text/plain": [
       "Index(['Año', 'Trimestre', 'Provincia', 'Mbps (Media de bajada)', 'ADSL',\n",
       "       'Cablemodem', 'Fibra óptica', 'Wireless', 'Otros_tec', 'Total_tec',\n",
       "       'Banda ancha fija', 'Dial up', 'Total_dialBaf',\n",
       "       'Accesos por cada 100 hab', 'Accesos por cada 100 hogares',\n",
       "       'HASTA 512 kbps', '+ 512 Kbps - 1 Mbps', '+ 1 Mbps - 6 Mbps',\n",
       "       '+ 6 Mbps - 10 Mbps', '+ 10 Mbps - 20 Mbps', '+ 20 Mbps - 30 Mbps',\n",
       "       '+ 30 Mbps', 'Otras_vel', 'Total_vel'],\n",
       "      dtype='object')"
      ]
     },
     "execution_count": 77,
     "metadata": {},
     "output_type": "execute_result"
    }
   ],
   "source": [
    "df.columns"
   ]
  },
  {
   "cell_type": "code",
   "execution_count": 93,
   "metadata": {},
   "outputs": [],
   "source": [
    "# Se crea la función que calcula el crecimiento porcentual respecto al periodo anterior\n",
    "\n",
    "def crecimiento(actual, anterior):\n",
    "    if anterior !=0:\n",
    "        return round((((actual-anterior)/anterior)*100),2)\n",
    "    else:\n",
    "        return 0 # Diremos que si no hay registro anterior entonces creció 0% en vez de 100%\n",
    "    \n",
    "    "
   ]
  },
  {
   "cell_type": "code",
   "execution_count": 85,
   "metadata": {},
   "outputs": [],
   "source": [
    "# Se ordena los registros para obtener trimestre anterior fácilmente\n",
    "df = df.sort_values(by=['Provincia', 'Año', 'Trimestre'])\n",
    "\n",
    "\n"
   ]
  },
  {
   "cell_type": "markdown",
   "metadata": {},
   "source": [
    "### KPI Acceso: Aumento del 2% en la cantidad de accesos respecto del trimestre anterior,por cada 100 habitantes, por provincia."
   ]
  },
  {
   "cell_type": "code",
   "execution_count": 86,
   "metadata": {},
   "outputs": [],
   "source": [
    "# Se crea nueva columna con el dato del trimestre anterior\n",
    "df['Acceso Anterior'] = df.groupby('Provincia')['Accesos por cada 100 hab'].shift(1)\n"
   ]
  },
  {
   "cell_type": "code",
   "execution_count": 95,
   "metadata": {},
   "outputs": [],
   "source": [
    "# se utiliza la función creada anteriormente para calcular el KPI usando los valores del trimestre anterior\n",
    "df['KPI_acceso'] = df.apply(lambda row: crecimiento(row['Accesos por cada 100 hab'], row['Acceso Anterior']),axis=1)"
   ]
  },
  {
   "cell_type": "code",
   "execution_count": 98,
   "metadata": {},
   "outputs": [],
   "source": [
    "# limpiamos los valores nulos  y eliminamos la columna 'Acceso Anterior'\n",
    "df['Acceso Anterior'] = df['Acceso Anterior'].fillna(0)\n",
    "df['KPI_acceso']= df['KPI_acceso'].fillna(0)\n",
    "df.drop('Acceso Anterior', axis=1, inplace=True)"
   ]
  },
  {
   "cell_type": "markdown",
   "metadata": {},
   "source": [
    " ## KPI Velocidad: Aumento del 5% en la velocidad (MBps) promedio respecto del trimestre anterior, por provincia"
   ]
  },
  {
   "cell_type": "code",
   "execution_count": 101,
   "metadata": {},
   "outputs": [],
   "source": [
    "# Se crea nueva columna con el dato del trimestre anterior\n",
    "df['Vel Anterior'] = df.groupby('Provincia')['Mbps (Media de bajada)'].shift(1)"
   ]
  },
  {
   "cell_type": "code",
   "execution_count": 103,
   "metadata": {},
   "outputs": [],
   "source": [
    "# se utiliza la función creada anteriormente para calcular el KPI usando los valores del trimestre anterior\n",
    "df['KPI_vel'] = df.apply(lambda row: crecimiento(row['Mbps (Media de bajada)'], row['Vel Anterior']),axis=1)"
   ]
  },
  {
   "cell_type": "code",
   "execution_count": 105,
   "metadata": {},
   "outputs": [],
   "source": [
    "# limpiamos los valores nulos  y eliminamos la columna 'Vel Anterior'\n",
    "df['KPI_vel']= df['KPI_vel'].fillna(0)\n",
    "df.drop('Vel Anterior', axis=1, inplace=True)"
   ]
  },
  {
   "cell_type": "markdown",
   "metadata": {},
   "source": [
    "## KPI Tecnologías: Aumentar un 8% las conexiones a través de fibra óptica respecto del trimestre anterior, por provincia"
   ]
  },
  {
   "cell_type": "code",
   "execution_count": 108,
   "metadata": {},
   "outputs": [],
   "source": [
    "# Se crea nueva columna con el dato del trimestre anterior\n",
    "df['Tec Anterior'] = df.groupby('Provincia')['Fibra óptica'].shift(1)"
   ]
  },
  {
   "cell_type": "code",
   "execution_count": 109,
   "metadata": {},
   "outputs": [],
   "source": [
    "# se utiliza la función creada anteriormente para calcular el KPI usando los valores del trimestre anterior\n",
    "df['KPI_tec'] = df.apply(lambda row: crecimiento(row['Fibra óptica'], row['Tec Anterior']),axis=1)"
   ]
  },
  {
   "cell_type": "code",
   "execution_count": 110,
   "metadata": {},
   "outputs": [],
   "source": [
    "# limpiamos los valores nulos  y eliminamos la columna 'Vel Anterior'\n",
    "df['KPI_tec']= df['KPI_tec'].fillna(0)\n",
    "df.drop('Tec Anterior', axis=1, inplace=True)"
   ]
  },
  {
   "cell_type": "markdown",
   "metadata": {},
   "source": [
    "Revisamos los valores calculados de KPI"
   ]
  },
  {
   "cell_type": "code",
   "execution_count": 111,
   "metadata": {},
   "outputs": [
    {
     "data": {
      "text/html": [
       "<div>\n",
       "<style scoped>\n",
       "    .dataframe tbody tr th:only-of-type {\n",
       "        vertical-align: middle;\n",
       "    }\n",
       "\n",
       "    .dataframe tbody tr th {\n",
       "        vertical-align: top;\n",
       "    }\n",
       "\n",
       "    .dataframe thead th {\n",
       "        text-align: right;\n",
       "    }\n",
       "</style>\n",
       "<table border=\"1\" class=\"dataframe\">\n",
       "  <thead>\n",
       "    <tr style=\"text-align: right;\">\n",
       "      <th></th>\n",
       "      <th>KPI_tec</th>\n",
       "      <th>KPI_vel</th>\n",
       "      <th>KPI_acceso</th>\n",
       "    </tr>\n",
       "  </thead>\n",
       "  <tbody>\n",
       "    <tr>\n",
       "      <th>936</th>\n",
       "      <td>0.00</td>\n",
       "      <td>0.00</td>\n",
       "      <td>0.00</td>\n",
       "    </tr>\n",
       "    <tr>\n",
       "      <th>912</th>\n",
       "      <td>-0.79</td>\n",
       "      <td>3.18</td>\n",
       "      <td>0.61</td>\n",
       "    </tr>\n",
       "    <tr>\n",
       "      <th>888</th>\n",
       "      <td>3.72</td>\n",
       "      <td>3.04</td>\n",
       "      <td>2.79</td>\n",
       "    </tr>\n",
       "    <tr>\n",
       "      <th>864</th>\n",
       "      <td>-3.17</td>\n",
       "      <td>5.79</td>\n",
       "      <td>-1.44</td>\n",
       "    </tr>\n",
       "    <tr>\n",
       "      <th>840</th>\n",
       "      <td>11.32</td>\n",
       "      <td>2.97</td>\n",
       "      <td>1.33</td>\n",
       "    </tr>\n",
       "    <tr>\n",
       "      <th>...</th>\n",
       "      <td>...</td>\n",
       "      <td>...</td>\n",
       "      <td>...</td>\n",
       "    </tr>\n",
       "    <tr>\n",
       "      <th>119</th>\n",
       "      <td>3.92</td>\n",
       "      <td>65.54</td>\n",
       "      <td>-0.13</td>\n",
       "    </tr>\n",
       "    <tr>\n",
       "      <th>95</th>\n",
       "      <td>7.27</td>\n",
       "      <td>8.45</td>\n",
       "      <td>-1.12</td>\n",
       "    </tr>\n",
       "    <tr>\n",
       "      <th>71</th>\n",
       "      <td>4.43</td>\n",
       "      <td>0.94</td>\n",
       "      <td>0.67</td>\n",
       "    </tr>\n",
       "    <tr>\n",
       "      <th>47</th>\n",
       "      <td>3.21</td>\n",
       "      <td>2.23</td>\n",
       "      <td>0.80</td>\n",
       "    </tr>\n",
       "    <tr>\n",
       "      <th>23</th>\n",
       "      <td>2.47</td>\n",
       "      <td>2.73</td>\n",
       "      <td>-0.33</td>\n",
       "    </tr>\n",
       "  </tbody>\n",
       "</table>\n",
       "<p>960 rows × 3 columns</p>\n",
       "</div>"
      ],
      "text/plain": [
       "     KPI_tec  KPI_vel  KPI_acceso\n",
       "936     0.00     0.00        0.00\n",
       "912    -0.79     3.18        0.61\n",
       "888     3.72     3.04        2.79\n",
       "864    -3.17     5.79       -1.44\n",
       "840    11.32     2.97        1.33\n",
       "..       ...      ...         ...\n",
       "119     3.92    65.54       -0.13\n",
       "95      7.27     8.45       -1.12\n",
       "71      4.43     0.94        0.67\n",
       "47      3.21     2.23        0.80\n",
       "23      2.47     2.73       -0.33\n",
       "\n",
       "[960 rows x 3 columns]"
      ]
     },
     "execution_count": 111,
     "metadata": {},
     "output_type": "execute_result"
    }
   ],
   "source": [
    "df[['KPI_tec', 'KPI_vel', 'KPI_acceso']]"
   ]
  },
  {
   "cell_type": "markdown",
   "metadata": {},
   "source": [
    "### importamos el archivo final a un excel para ser visualizado en Power BI"
   ]
  },
  {
   "cell_type": "code",
   "execution_count": 112,
   "metadata": {},
   "outputs": [],
   "source": [
    "df.to_excel('data_provincia_kpi.xlsx', index=False)"
   ]
  }
 ],
 "metadata": {
  "kernelspec": {
   "display_name": "Python 3",
   "language": "python",
   "name": "python3"
  },
  "language_info": {
   "codemirror_mode": {
    "name": "ipython",
    "version": 3
   },
   "file_extension": ".py",
   "mimetype": "text/x-python",
   "name": "python",
   "nbconvert_exporter": "python",
   "pygments_lexer": "ipython3",
   "version": "3.12.4"
  }
 },
 "nbformat": 4,
 "nbformat_minor": 2
}
